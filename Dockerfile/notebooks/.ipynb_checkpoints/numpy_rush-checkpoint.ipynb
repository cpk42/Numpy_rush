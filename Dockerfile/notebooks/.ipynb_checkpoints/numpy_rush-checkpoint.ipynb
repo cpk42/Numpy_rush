{
 "cells": [
  {
   "cell_type": "code",
   "execution_count": 4,
   "metadata": {},
   "outputs": [],
   "source": [
    "#ckrommen:ztisnes"
   ]
  },
  {
   "cell_type": "code",
   "execution_count": 1,
   "metadata": {},
   "outputs": [],
   "source": [
    "import numpy as np\n",
    "import matplotlib.pyplot as mpl\n",
    "import matplotlib.image as img"
   ]
  },
  {
   "cell_type": "code",
   "execution_count": 2,
   "metadata": {},
   "outputs": [],
   "source": [
    "#question 1\n",
    "def gen_arr(r, c):\n",
    "    rng = range(r*c)\n",
    "    count = 0\n",
    "    mtrx = np.ones(shape=(r, c))\n",
    "    for i in range(r):\n",
    "        for x in range(c):\n",
    "            mtrx[i][x] = rng[count]\n",
    "            count += 1\n",
    "    return (mtrx)\n",
    "                \n",
    "    \n",
    "matrx = gen_arr(10,10)"
   ]
  },
  {
   "cell_type": "code",
   "execution_count": 3,
   "metadata": {},
   "outputs": [
    {
     "name": "stdout",
     "output_type": "stream",
     "text": [
      "[[  0.   1.   2.]\n",
      " [  3.   4.   5.]\n",
      " [  6.   7.   8.]\n",
      " [  9.  10.  11.]]\n"
     ]
    }
   ],
   "source": [
    "#question 2\n",
    "seq = gen_arr(4, 3)\n",
    "print(seq)"
   ]
  },
  {
   "cell_type": "code",
   "execution_count": 4,
   "metadata": {},
   "outputs": [
    {
     "name": "stdout",
     "output_type": "stream",
     "text": [
      "[ 0.          0.11111111  0.22222222  0.33333333  0.44444444  0.55555556\n",
      "  0.66666667  0.77777778  0.88888889  1.        ]\n"
     ]
    }
   ],
   "source": [
    "#question 3\n",
    "def gen_nsize(n):\n",
    "    new = np.linspace(0, 1, n)\n",
    "    if (new.shape[0] == n):\n",
    "        return (new)\n",
    "    else:\n",
    "        error = \"error\"\n",
    "        return (error)\n",
    "\n",
    "arr = gen_nsize(10)\n",
    "print(arr)"
   ]
  },
  {
   "cell_type": "code",
   "execution_count": 5,
   "metadata": {},
   "outputs": [
    {
     "name": "stdout",
     "output_type": "stream",
     "text": [
      "[[   0.    1.    2.    3.    4.    5.    6.    7.    8.    9.   10.   11.]\n",
      " [  12.   13.   14.   15.   16.   17.   18.   19.   20.   21.   22.   23.]\n",
      " [  24.   25.   26.   27.   28.   29.   30.   31.   32.   33.   34.   35.]\n",
      " [  36.   37.   38.   39.   40.   41.   42.   43.   44.   45.   46.   47.]\n",
      " [  48.   49.   50.   51.   52.   53.   54.   55.   56.   57.   58.   59.]\n",
      " [  60.   61.   62.   63.   64.   65.   66.   67.   68.   69.   70.   71.]\n",
      " [  72.   73.   74.   75.   76.   77.   78.   79.   80.   81.   82.   83.]\n",
      " [  84.   85.   86.   87.   88.   89.   90.   91.   92.   93.   94.   95.]\n",
      " [  96.   97.   98.   99.  100.  101.  102.  103.  104.  105.  106.  107.]\n",
      " [ 108.  109.  110.  111.  112.  113.  114.  115.  116.  117.  118.  119.]] \n",
      " [[  7.   8.   9.  10.  11.]\n",
      " [ 19.  20.  21.  22.  23.]\n",
      " [ 31.  32.  33.  34.  35.]\n",
      " [ 43.  44.  45.  46.  47.]\n",
      " [ 55.  56.  57.  58.  59.]]\n"
     ]
    }
   ],
   "source": [
    "#question 4\n",
    "def extract_arr(arr):\n",
    "    if (arr.shape != (10, 12)):\n",
    "        return (arr)\n",
    "    else:\n",
    "        grid = gen_arr(5, 5)\n",
    "        x = 0\n",
    "        for i in range(5):\n",
    "            y = 7\n",
    "            for j in range(5):\n",
    "                grid[i][j] = arr[x][y]\n",
    "                y += 1\n",
    "            \n",
    "            x += 1\n",
    "        return (grid)\n",
    "\n",
    "matrx1 = gen_arr(10, 12)\n",
    "matrx2 = extract_arr(matrx1)\n",
    "print(matrx1, '\\n', matrx2)"
   ]
  },
  {
   "cell_type": "code",
   "execution_count": 19,
   "metadata": {},
   "outputs": [
    {
     "data": {
      "text/plain": [
       "<matplotlib.image.AxesImage at 0x7f6d1510ff60>"
      ]
     },
     "execution_count": 19,
     "metadata": {},
     "output_type": "execute_result"
    },
    {
     "data": {
      "image/png": "[encoded data removed]",
      "text/plain": [
       "<matplotlib.figure.Figure at 0x7f6d15178cf8>"
      ]
     },
     "metadata": {},
     "output_type": "display_data"
    }
   ],
   "source": [
    "#question 5\n",
    "def bind_vectors(m, n):\n",
    "    matrix = gen_nsize(n)\n",
    "    tmp = gen_nsize(n)\n",
    "    i = 0\n",
    "    while i < m:\n",
    "        tmp = np.vstack((matrix, tmp))\n",
    "        i += 1\n",
    "        \n",
    "    return (tmp)\n",
    "    \n",
    "\n",
    "matrx3 = bind_vectors(10, 10)\n",
    "mpl.imshow(matrx3)"
   ]
  },
  {
   "cell_type": "code",
   "execution_count": 61,
   "metadata": {},
   "outputs": [
    {
     "data": {
      "text/plain": [
       "<matplotlib.image.AxesImage at 0x7f6d0ed5e240>"
      ]
     },
     "execution_count": 61,
     "metadata": {},
     "output_type": "execute_result"
    },
    {
     "data": {
      "image/png": "[encoded data removed]",
      "text/plain": [
       "<matplotlib.figure.Figure at 0x7f6d0f52fbe0>"
      ]
     },
     "metadata": {},
     "output_type": "display_data"
    }
   ],
   "source": [
    "#question 6\n",
    "\n",
    "image = img.imread('marvin.png')\n",
    "matrx4 = bind_vectors(3, 4)\n",
    "xform = np.dot(image, matrx4)\n",
    "mpl.imshow(xform)"
   ]
  },
  {
   "cell_type": "code",
   "execution_count": null,
   "metadata": {},
   "outputs": [],
   "source": [
    "def rgb2gray(rgb):\n",
    "    fil = [0.299, 0.587, 0.144, 0]\n",
    "    return np.dot(rgb,fil)\n"
   ]
  },
  {
   "cell_type": "code",
   "execution_count": 106,
   "metadata": {},
   "outputs": [],
   "source": [
    "\n",
    "\n",
    "#xform = np.dot(image, vector)\n",
    "#xform = np.dot(image, bind_vectors(3, 3).T)\n",
    "#for i in range(0, 4):\n",
    "#    image[:,:,i] *= matrx4\n",
    "#mpl.imshow(image)\n",
    "\n",
    "#res = mult_matrices(image, matrx3);\n",
    "#matrx4 = matrx * image\n",
    "#lum_img = image[:,:,0]\n",
    "#mpl.imshow(image)\n",
    "#image = rgb2gray(image)\n",
    "#mpl.imshow(image,cmap='gray')"
   ]
  },
  {
   "cell_type": "code",
   "execution_count": null,
   "metadata": {},
   "outputs": [],
   "source": []
  }
 ],
 "metadata": {
  "kernelspec": {
   "display_name": "Python 3",
   "language": "python",
   "name": "python3"
  },
  "language_info": {
   "codemirror_mode": {
    "name": "ipython",
    "version": 3
   },
   "file_extension": ".py",
   "mimetype": "text/x-python",
   "name": "python",
   "nbconvert_exporter": "python",
   "pygments_lexer": "ipython3",
   "version": "3.6.3"
  }
 },
 "nbformat": 4,
 "nbformat_minor": 2
}
